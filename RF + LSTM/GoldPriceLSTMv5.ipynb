{
 "cells": [
  {
   "cell_type": "code",
   "execution_count": 1,
   "id": "48e5b9b7",
   "metadata": {},
   "outputs": [
    {
     "name": "stdout",
     "output_type": "stream",
     "text": [
      "         Time  Gold_Price_VN  CPI_VN  Gold_Price_World  Oil_Price  \\\n",
      "0  01/01/2010         26.700    1.36           1087.50      83.25   \n",
      "1  02/01/2010         26.700    1.36           1087.50      83.25   \n",
      "2  03/01/2010         26.701    1.36           1087.50      83.25   \n",
      "3  04/01/2010         26.760    1.36           1121.50      83.25   \n",
      "4  05/01/2010         26.960    1.36           1123.25      83.25   \n",
      "\n",
      "   Tỷ giá USD/VND  SX_CN  VN-Index  CPI_USA    SM_M2  INTEREST_RATE  \\\n",
      "0         18469.0    0.0    517.05      1.6  1951164          10.58   \n",
      "1         18469.0    0.0    517.05      1.6  1951164          10.58   \n",
      "2         18469.0    0.0    517.05      1.6  1951164          10.58   \n",
      "3         18469.0    0.0    517.05      1.6  1951164          10.58   \n",
      "4         18469.0    0.0    532.53      1.6  1951164          10.79   \n",
      "\n",
      "         GSI     GSI_VN  \n",
      "0  44.408702  32.921113  \n",
      "1  44.408702  32.921113  \n",
      "2  44.408702  32.921113  \n",
      "3  44.408702  32.921113  \n",
      "4  44.408702  32.921113  \n"
     ]
    }
   ],
   "source": [
    "import numpy as np\n",
    "import pandas as pd\n",
    "import matplotlib.pyplot as plt\n",
    "from sklearn.preprocessing import MinMaxScaler\n",
    "\n",
    "file_path = 'data_nckh.xlsx'\n",
    "df = pd.read_excel(file_path)\n",
    "\n",
    "print(df.head())"
   ]
  },
  {
   "cell_type": "code",
   "execution_count": 2,
   "id": "67b2ef6a-70fe-4a2a-a8c9-1d0a34bd85e5",
   "metadata": {},
   "outputs": [],
   "source": [
    "df[\"Time\"] = pd.to_datetime(df[\"Time\"], format=\"%d/%m/%Y\")\n",
    "df.set_index(\"Time\", inplace=True)\n",
    "\n",
    "# Sắp xếp dữ liệu theo thời gian\n",
    "df = df.sort_index()\n"
   ]
  },
  {
   "cell_type": "code",
   "execution_count": 86,
   "id": "da37f29d-83a6-458e-91d2-8691e6adbb1d",
   "metadata": {},
   "outputs": [],
   "source": [
    "Q1 = df.quantile(0.25)\n",
    "Q3 = df.quantile(0.75)\n",
    "IQR = Q3 - Q1\n",
    "\n",
    "# Xóa outliers nằm ngoài [Q1 - 1.5*IQR, Q3 + 1.5*IQR]\n",
    "df = df[~((df < (Q1 - 1.5 * IQR)) | (df > (Q3 + 1.5 * IQR))).any(axis=1)]\n"
   ]
  },
  {
   "cell_type": "code",
   "execution_count": 87,
   "id": "5c40a582-091a-4f3e-9a91-0e6b4d6c5633",
   "metadata": {},
   "outputs": [],
   "source": [
    "monthly_features = ['CPI_VN (%)', 'CPI_USA (%)', 'SM_M2 (Tỷ đồng)','GSI (%)', 'GSI_VN', 'SX_CN']\n",
    "\n",
    "# Điền dữ liệu hàng tháng bằng phương pháp forward-fill\n",
    "df[monthly_features] = df[monthly_features].ffill()\n"
   ]
  },
  {
   "cell_type": "code",
   "execution_count": 88,
   "id": "2ba6c898-2d80-42d1-88ad-13d7c3687cf7",
   "metadata": {},
   "outputs": [],
   "source": [
    "# Tạo lag features (giá trị quá khứ)\n",
    "df['Gold_Price_Lag1'] = df['Gold_Price_VN (Triệu/lượng)'].shift(1)\n",
    "\n",
    "# Tạo trung bình động 7 ngày\n",
    "df['Gold_Price_7D_MA'] = df['Gold_Price_VN (Triệu/lượng)'].rolling(window=7).mean()\n",
    "\n",
    "# Tính % thay đổi so với ngày trước\n",
    "df['Gold_Price_Pct_Change'] = df['Gold_Price_VN (Triệu/lượng)'].pct_change()\n",
    "\n",
    "# Xóa các giá trị NaN sau khi tạo đặc trưng\n",
    "df.dropna(inplace=True)\n"
   ]
  },
  {
   "cell_type": "code",
   "execution_count": 89,
   "id": "8eaf1043-b5e8-4ec0-9d83-7a7b6aa5cf6a",
   "metadata": {},
   "outputs": [],
   "source": [
    "scaler = MinMaxScaler(feature_range=(0, 1))\n",
    "features = ['Oil_Price (USD/Thùng)', 'CPI_VN (%)', 'Tỷ giá USD/VND (VNĐ)', \n",
    "            'VN-Index', 'CPI_USA (%)', 'SM_M2 (Tỷ đồng)', 'SX_CN', \n",
    "            'INTEREST_RATE (%)', 'GSI (%)', 'GSI_VN', 'Gold_Price_Lag1', \n",
    "            'Gold_Price_7D_MA', 'Gold_Price_Pct_Change','Gold_Price_World (USD/oz)']\n",
    "\n",
    "# Chuẩn hóa dữ liệu\n",
    "df[features] = scaler.fit_transform(df[features])\n",
    "\n",
    "# Chuẩn hóa giá vàng riêng biệt\n",
    "target_scaler = MinMaxScaler(feature_range=(0, 1))\n",
    "df['Gold_Price_VN (Triệu/lượng)'] = target_scaler.fit_transform(df[['Gold_Price_VN (Triệu/lượng)']])\n"
   ]
  },
  {
   "cell_type": "code",
   "execution_count": 90,
   "id": "b5cb67f1-a47e-4fa3-9771-78037b905719",
   "metadata": {},
   "outputs": [],
   "source": [
    "df.to_csv(\"processed_data.csv\")\n"
   ]
  },
  {
   "cell_type": "code",
   "execution_count": 91,
   "id": "c3fff7ab-5fc7-40dc-b6de-ad69667d987e",
   "metadata": {},
   "outputs": [],
   "source": [
    "import numpy as np\n",
    "import pandas as pd\n",
    "import matplotlib.pyplot as plt\n",
    "from sklearn.preprocessing import MinMaxScaler\n",
    "from tensorflow.keras.models import Sequential\n",
    "from tensorflow.keras.layers import LSTM, Dense, Dropout\n",
    "from sklearn.metrics import mean_absolute_percentage_error\n",
    "\n",
    "# Đọc dữ liệu đã xử lý\n",
    "file_path = \"processed_data.csv\"\n",
    "df = pd.read_csv(file_path, index_col=\"Time\", parse_dates=True)\n"
   ]
  },
  {
   "cell_type": "code",
   "execution_count": 93,
   "id": "366e8ae2-1ece-4ecb-a193-6a538c789635",
   "metadata": {},
   "outputs": [],
   "source": [
    "# Chọn các biến đầu vào (features) và biến mục tiêu (target)\n",
    "features = ['Oil_Price (USD/Thùng)', 'CPI_VN (%)', 'Tỷ giá USD/VND (VNĐ)', \n",
    "            'VN-Index', 'CPI_USA (%)', 'SM_M2 (Tỷ đồng)', 'SX_CN', \n",
    "            'INTEREST_RATE (%)', 'GSI (%)', 'GSI_VN', 'Gold_Price_Lag1', \n",
    "            'Gold_Price_7D_MA', 'Gold_Price_Pct_Change','Gold_Price_World (USD/oz)']\n",
    "target = 'Gold_Price_VN (Triệu/lượng)'\n",
    "\n",
    "# Split data into train and test\n",
    "train_data = df.iloc[:int(len(df) * 0.8)]\n",
    "test_data = df.iloc[int(len(df) * 0.8):]\n",
    "\n",
    "# Chuyển thành numpy array\n",
    "train_values = train_data[features + [target]].values\n",
    "test_values = test_data[features + [target]].values\n"
   ]
  },
  {
   "cell_type": "code",
   "execution_count": 94,
   "id": "303ea56a-233f-4141-9db4-f038997ade4f",
   "metadata": {},
   "outputs": [],
   "source": [
    "def create_sequences(data, time_step=60):\n",
    "    X, y = [], []\n",
    "    for i in range(len(data) - time_step):\n",
    "        X.append(data[i:i+time_step, :-1])  # Các biến đầu vào\n",
    "        y.append(data[i+time_step, -1])  # Biến mục tiêu\n",
    "    return np.array(X), np.array(y)\n",
    "\n",
    "time_step = 60  # Sử dụng 60 ngày trước để dự đoán ngày tiếp theo\n",
    "\n",
    "X_train, y_train = create_sequences(train_values, time_step)\n",
    "X_test, y_test = create_sequences(test_values, time_step)\n"
   ]
  },
  {
   "cell_type": "code",
   "execution_count": 95,
   "id": "249dc30d-96e4-4665-850e-40c94860dadc",
   "metadata": {},
   "outputs": [
    {
     "name": "stderr",
     "output_type": "stream",
     "text": [
      "c:\\Users\\Admin\\anaconda3\\Lib\\site-packages\\keras\\src\\layers\\rnn\\rnn.py:200: UserWarning: Do not pass an `input_shape`/`input_dim` argument to a layer. When using Sequential models, prefer using an `Input(shape)` object as the first layer in the model instead.\n",
      "  super().__init__(**kwargs)\n"
     ]
    },
    {
     "name": "stdout",
     "output_type": "stream",
     "text": [
      "Epoch 1/50\n",
      "\u001b[1m82/82\u001b[0m \u001b[32m━━━━━━━━━━━━━━━━━━━━\u001b[0m\u001b[37m\u001b[0m \u001b[1m13s\u001b[0m 52ms/step - loss: 0.0161 - val_loss: 0.0477\n",
      "Epoch 2/50\n",
      "\u001b[1m82/82\u001b[0m \u001b[32m━━━━━━━━━━━━━━━━━━━━\u001b[0m\u001b[37m\u001b[0m \u001b[1m4s\u001b[0m 43ms/step - loss: 0.0011 - val_loss: 0.0336\n",
      "Epoch 3/50\n",
      "\u001b[1m82/82\u001b[0m \u001b[32m━━━━━━━━━━━━━━━━━━━━\u001b[0m\u001b[37m\u001b[0m \u001b[1m3s\u001b[0m 41ms/step - loss: 9.5842e-04 - val_loss: 0.0353\n",
      "Epoch 4/50\n",
      "\u001b[1m82/82\u001b[0m \u001b[32m━━━━━━━━━━━━━━━━━━━━\u001b[0m\u001b[37m\u001b[0m \u001b[1m4s\u001b[0m 43ms/step - loss: 6.3928e-04 - val_loss: 0.0267\n",
      "Epoch 5/50\n",
      "\u001b[1m82/82\u001b[0m \u001b[32m━━━━━━━━━━━━━━━━━━━━\u001b[0m\u001b[37m\u001b[0m \u001b[1m4s\u001b[0m 45ms/step - loss: 5.5849e-04 - val_loss: 0.0330\n",
      "Epoch 6/50\n",
      "\u001b[1m82/82\u001b[0m \u001b[32m━━━━━━━━━━━━━━━━━━━━\u001b[0m\u001b[37m\u001b[0m \u001b[1m4s\u001b[0m 45ms/step - loss: 4.5408e-04 - val_loss: 0.0300\n",
      "Epoch 7/50\n",
      "\u001b[1m82/82\u001b[0m \u001b[32m━━━━━━━━━━━━━━━━━━━━\u001b[0m\u001b[37m\u001b[0m \u001b[1m4s\u001b[0m 43ms/step - loss: 3.6173e-04 - val_loss: 0.0264\n",
      "Epoch 8/50\n",
      "\u001b[1m82/82\u001b[0m \u001b[32m━━━━━━━━━━━━━━━━━━━━\u001b[0m\u001b[37m\u001b[0m \u001b[1m4s\u001b[0m 43ms/step - loss: 3.6450e-04 - val_loss: 0.0276\n",
      "Epoch 9/50\n",
      "\u001b[1m82/82\u001b[0m \u001b[32m━━━━━━━━━━━━━━━━━━━━\u001b[0m\u001b[37m\u001b[0m \u001b[1m4s\u001b[0m 45ms/step - loss: 3.2946e-04 - val_loss: 0.0275\n",
      "Epoch 10/50\n",
      "\u001b[1m82/82\u001b[0m \u001b[32m━━━━━━━━━━━━━━━━━━━━\u001b[0m\u001b[37m\u001b[0m \u001b[1m4s\u001b[0m 44ms/step - loss: 3.4791e-04 - val_loss: 0.0381\n",
      "Epoch 11/50\n",
      "\u001b[1m82/82\u001b[0m \u001b[32m━━━━━━━━━━━━━━━━━━━━\u001b[0m\u001b[37m\u001b[0m \u001b[1m4s\u001b[0m 43ms/step - loss: 3.2633e-04 - val_loss: 0.0275\n",
      "Epoch 12/50\n",
      "\u001b[1m82/82\u001b[0m \u001b[32m━━━━━━━━━━━━━━━━━━━━\u001b[0m\u001b[37m\u001b[0m \u001b[1m4s\u001b[0m 45ms/step - loss: 2.7807e-04 - val_loss: 0.0249\n",
      "Epoch 13/50\n",
      "\u001b[1m82/82\u001b[0m \u001b[32m━━━━━━━━━━━━━━━━━━━━\u001b[0m\u001b[37m\u001b[0m \u001b[1m4s\u001b[0m 45ms/step - loss: 2.1593e-04 - val_loss: 0.0313\n",
      "Epoch 14/50\n",
      "\u001b[1m82/82\u001b[0m \u001b[32m━━━━━━━━━━━━━━━━━━━━\u001b[0m\u001b[37m\u001b[0m \u001b[1m4s\u001b[0m 45ms/step - loss: 2.6919e-04 - val_loss: 0.0293\n",
      "Epoch 15/50\n",
      "\u001b[1m82/82\u001b[0m \u001b[32m━━━━━━━━━━━━━━━━━━━━\u001b[0m\u001b[37m\u001b[0m \u001b[1m4s\u001b[0m 45ms/step - loss: 2.9318e-04 - val_loss: 0.0302\n",
      "Epoch 16/50\n",
      "\u001b[1m82/82\u001b[0m \u001b[32m━━━━━━━━━━━━━━━━━━━━\u001b[0m\u001b[37m\u001b[0m \u001b[1m4s\u001b[0m 45ms/step - loss: 2.5427e-04 - val_loss: 0.0340\n",
      "Epoch 17/50\n",
      "\u001b[1m82/82\u001b[0m \u001b[32m━━━━━━━━━━━━━━━━━━━━\u001b[0m\u001b[37m\u001b[0m \u001b[1m4s\u001b[0m 45ms/step - loss: 2.2295e-04 - val_loss: 0.0299\n",
      "Epoch 18/50\n",
      "\u001b[1m82/82\u001b[0m \u001b[32m━━━━━━━━━━━━━━━━━━━━\u001b[0m\u001b[37m\u001b[0m \u001b[1m4s\u001b[0m 45ms/step - loss: 1.7941e-04 - val_loss: 0.0344\n",
      "Epoch 19/50\n",
      "\u001b[1m82/82\u001b[0m \u001b[32m━━━━━━━━━━━━━━━━━━━━\u001b[0m\u001b[37m\u001b[0m \u001b[1m4s\u001b[0m 44ms/step - loss: 2.0925e-04 - val_loss: 0.0352\n",
      "Epoch 20/50\n",
      "\u001b[1m82/82\u001b[0m \u001b[32m━━━━━━━━━━━━━━━━━━━━\u001b[0m\u001b[37m\u001b[0m \u001b[1m4s\u001b[0m 45ms/step - loss: 2.0834e-04 - val_loss: 0.0343\n",
      "Epoch 21/50\n",
      "\u001b[1m82/82\u001b[0m \u001b[32m━━━━━━━━━━━━━━━━━━━━\u001b[0m\u001b[37m\u001b[0m \u001b[1m4s\u001b[0m 44ms/step - loss: 1.8493e-04 - val_loss: 0.0260\n",
      "Epoch 22/50\n",
      "\u001b[1m82/82\u001b[0m \u001b[32m━━━━━━━━━━━━━━━━━━━━\u001b[0m\u001b[37m\u001b[0m \u001b[1m4s\u001b[0m 45ms/step - loss: 2.1416e-04 - val_loss: 0.0362\n",
      "Epoch 23/50\n",
      "\u001b[1m82/82\u001b[0m \u001b[32m━━━━━━━━━━━━━━━━━━━━\u001b[0m\u001b[37m\u001b[0m \u001b[1m4s\u001b[0m 46ms/step - loss: 2.0122e-04 - val_loss: 0.0343\n",
      "Epoch 24/50\n",
      "\u001b[1m82/82\u001b[0m \u001b[32m━━━━━━━━━━━━━━━━━━━━\u001b[0m\u001b[37m\u001b[0m \u001b[1m4s\u001b[0m 47ms/step - loss: 2.2318e-04 - val_loss: 0.0335\n",
      "Epoch 25/50\n",
      "\u001b[1m82/82\u001b[0m \u001b[32m━━━━━━━━━━━━━━━━━━━━\u001b[0m\u001b[37m\u001b[0m \u001b[1m4s\u001b[0m 44ms/step - loss: 1.8490e-04 - val_loss: 0.0289\n",
      "Epoch 26/50\n",
      "\u001b[1m82/82\u001b[0m \u001b[32m━━━━━━━━━━━━━━━━━━━━\u001b[0m\u001b[37m\u001b[0m \u001b[1m4s\u001b[0m 45ms/step - loss: 1.9101e-04 - val_loss: 0.0410\n",
      "Epoch 27/50\n",
      "\u001b[1m82/82\u001b[0m \u001b[32m━━━━━━━━━━━━━━━━━━━━\u001b[0m\u001b[37m\u001b[0m \u001b[1m4s\u001b[0m 44ms/step - loss: 1.8331e-04 - val_loss: 0.0321\n",
      "Epoch 28/50\n",
      "\u001b[1m82/82\u001b[0m \u001b[32m━━━━━━━━━━━━━━━━━━━━\u001b[0m\u001b[37m\u001b[0m \u001b[1m4s\u001b[0m 46ms/step - loss: 1.6706e-04 - val_loss: 0.0364\n",
      "Epoch 29/50\n",
      "\u001b[1m82/82\u001b[0m \u001b[32m━━━━━━━━━━━━━━━━━━━━\u001b[0m\u001b[37m\u001b[0m \u001b[1m4s\u001b[0m 45ms/step - loss: 1.9012e-04 - val_loss: 0.0359\n",
      "Epoch 30/50\n",
      "\u001b[1m82/82\u001b[0m \u001b[32m━━━━━━━━━━━━━━━━━━━━\u001b[0m\u001b[37m\u001b[0m \u001b[1m4s\u001b[0m 47ms/step - loss: 1.9517e-04 - val_loss: 0.0374\n",
      "Epoch 31/50\n",
      "\u001b[1m82/82\u001b[0m \u001b[32m━━━━━━━━━━━━━━━━━━━━\u001b[0m\u001b[37m\u001b[0m \u001b[1m4s\u001b[0m 44ms/step - loss: 1.6969e-04 - val_loss: 0.0325\n",
      "Epoch 32/50\n",
      "\u001b[1m82/82\u001b[0m \u001b[32m━━━━━━━━━━━━━━━━━━━━\u001b[0m\u001b[37m\u001b[0m \u001b[1m4s\u001b[0m 45ms/step - loss: 1.6211e-04 - val_loss: 0.0318\n",
      "Epoch 33/50\n",
      "\u001b[1m82/82\u001b[0m \u001b[32m━━━━━━━━━━━━━━━━━━━━\u001b[0m\u001b[37m\u001b[0m \u001b[1m4s\u001b[0m 45ms/step - loss: 1.6481e-04 - val_loss: 0.0348\n",
      "Epoch 34/50\n",
      "\u001b[1m82/82\u001b[0m \u001b[32m━━━━━━━━━━━━━━━━━━━━\u001b[0m\u001b[37m\u001b[0m \u001b[1m4s\u001b[0m 44ms/step - loss: 1.5520e-04 - val_loss: 0.0325\n",
      "Epoch 35/50\n",
      "\u001b[1m82/82\u001b[0m \u001b[32m━━━━━━━━━━━━━━━━━━━━\u001b[0m\u001b[37m\u001b[0m \u001b[1m4s\u001b[0m 45ms/step - loss: 1.7578e-04 - val_loss: 0.0286\n",
      "Epoch 36/50\n",
      "\u001b[1m82/82\u001b[0m \u001b[32m━━━━━━━━━━━━━━━━━━━━\u001b[0m\u001b[37m\u001b[0m \u001b[1m4s\u001b[0m 45ms/step - loss: 2.0907e-04 - val_loss: 0.0384\n",
      "Epoch 37/50\n",
      "\u001b[1m82/82\u001b[0m \u001b[32m━━━━━━━━━━━━━━━━━━━━\u001b[0m\u001b[37m\u001b[0m \u001b[1m4s\u001b[0m 45ms/step - loss: 2.0344e-04 - val_loss: 0.0304\n",
      "Epoch 38/50\n",
      "\u001b[1m82/82\u001b[0m \u001b[32m━━━━━━━━━━━━━━━━━━━━\u001b[0m\u001b[37m\u001b[0m \u001b[1m4s\u001b[0m 43ms/step - loss: 1.4103e-04 - val_loss: 0.0323\n",
      "Epoch 39/50\n",
      "\u001b[1m82/82\u001b[0m \u001b[32m━━━━━━━━━━━━━━━━━━━━\u001b[0m\u001b[37m\u001b[0m \u001b[1m4s\u001b[0m 43ms/step - loss: 1.2607e-04 - val_loss: 0.0324\n",
      "Epoch 40/50\n",
      "\u001b[1m82/82\u001b[0m \u001b[32m━━━━━━━━━━━━━━━━━━━━\u001b[0m\u001b[37m\u001b[0m \u001b[1m4s\u001b[0m 46ms/step - loss: 1.7271e-04 - val_loss: 0.0375\n",
      "Epoch 41/50\n",
      "\u001b[1m82/82\u001b[0m \u001b[32m━━━━━━━━━━━━━━━━━━━━\u001b[0m\u001b[37m\u001b[0m \u001b[1m4s\u001b[0m 44ms/step - loss: 1.4151e-04 - val_loss: 0.0256\n",
      "Epoch 42/50\n",
      "\u001b[1m82/82\u001b[0m \u001b[32m━━━━━━━━━━━━━━━━━━━━\u001b[0m\u001b[37m\u001b[0m \u001b[1m4s\u001b[0m 45ms/step - loss: 1.5261e-04 - val_loss: 0.0322\n",
      "Epoch 43/50\n",
      "\u001b[1m82/82\u001b[0m \u001b[32m━━━━━━━━━━━━━━━━━━━━\u001b[0m\u001b[37m\u001b[0m \u001b[1m4s\u001b[0m 43ms/step - loss: 1.3844e-04 - val_loss: 0.0307\n",
      "Epoch 44/50\n",
      "\u001b[1m82/82\u001b[0m \u001b[32m━━━━━━━━━━━━━━━━━━━━\u001b[0m\u001b[37m\u001b[0m \u001b[1m4s\u001b[0m 44ms/step - loss: 1.5187e-04 - val_loss: 0.0301\n",
      "Epoch 45/50\n",
      "\u001b[1m82/82\u001b[0m \u001b[32m━━━━━━━━━━━━━━━━━━━━\u001b[0m\u001b[37m\u001b[0m \u001b[1m4s\u001b[0m 45ms/step - loss: 1.8380e-04 - val_loss: 0.0285\n",
      "Epoch 46/50\n",
      "\u001b[1m82/82\u001b[0m \u001b[32m━━━━━━━━━━━━━━━━━━━━\u001b[0m\u001b[37m\u001b[0m \u001b[1m4s\u001b[0m 45ms/step - loss: 1.2362e-04 - val_loss: 0.0284\n",
      "Epoch 47/50\n",
      "\u001b[1m82/82\u001b[0m \u001b[32m━━━━━━━━━━━━━━━━━━━━\u001b[0m\u001b[37m\u001b[0m \u001b[1m4s\u001b[0m 43ms/step - loss: 1.3642e-04 - val_loss: 0.0286\n",
      "Epoch 48/50\n",
      "\u001b[1m82/82\u001b[0m \u001b[32m━━━━━━━━━━━━━━━━━━━━\u001b[0m\u001b[37m\u001b[0m \u001b[1m4s\u001b[0m 44ms/step - loss: 1.2008e-04 - val_loss: 0.0251\n",
      "Epoch 49/50\n",
      "\u001b[1m82/82\u001b[0m \u001b[32m━━━━━━━━━━━━━━━━━━━━\u001b[0m\u001b[37m\u001b[0m \u001b[1m4s\u001b[0m 44ms/step - loss: 1.1274e-04 - val_loss: 0.0311\n",
      "Epoch 50/50\n",
      "\u001b[1m82/82\u001b[0m \u001b[32m━━━━━━━━━━━━━━━━━━━━\u001b[0m\u001b[37m\u001b[0m \u001b[1m4s\u001b[0m 45ms/step - loss: 1.5058e-04 - val_loss: 0.0303\n"
     ]
    },
    {
     "data": {
      "text/plain": [
       "<keras.src.callbacks.history.History at 0x26874b4f020>"
      ]
     },
     "execution_count": 95,
     "metadata": {},
     "output_type": "execute_result"
    }
   ],
   "source": [
    "model = Sequential([\n",
    "    LSTM(units=50, return_sequences=True, input_shape=(time_step, len(features))),\n",
    "    Dropout(0.2),\n",
    "    LSTM(units=50, return_sequences=False),\n",
    "    Dropout(0.2),\n",
    "    Dense(units=25),\n",
    "    Dense(units=1)\n",
    "])\n",
    "\n",
    "model.compile(optimizer='adam', loss='mean_squared_error')\n",
    "\n",
    "# Huấn luyện mô hình\n",
    "model.fit(X_train, y_train, epochs=50, batch_size=32, validation_data=(X_test, y_test), verbose=1)\n"
   ]
  },
  {
   "cell_type": "code",
   "execution_count": 96,
   "id": "c4d1482f-77e0-427b-af2f-51946e3b7e6c",
   "metadata": {},
   "outputs": [
    {
     "name": "stdout",
     "output_type": "stream",
     "text": [
      "\u001b[1m20/20\u001b[0m \u001b[32m━━━━━━━━━━━━━━━━━━━━\u001b[0m\u001b[37m\u001b[0m \u001b[1m2s\u001b[0m 50ms/step\n"
     ]
    }
   ],
   "source": [
    "# Dự đoán trên tập test\n",
    "predicted_prices = model.predict(X_test)\n",
    "\n",
    "# Đưa dữ liệu về giá trị thực bằng scaler\n",
    "target_scaler = MinMaxScaler()\n",
    "target_scaler.fit(df[[target]])  # Fit với toàn bộ tập dữ liệu\n",
    "\n",
    "predicted_prices = target_scaler.inverse_transform(predicted_prices)\n",
    "actual_prices = target_scaler.inverse_transform(y_test.reshape(-1, 1))\n"
   ]
  },
  {
   "cell_type": "code",
   "execution_count": 97,
   "id": "9124ba91-58a2-412e-9c85-e642fd952712",
   "metadata": {},
   "outputs": [
    {
     "name": "stdout",
     "output_type": "stream",
     "text": [
      "MAPE (Mean Absolute Percentage Error): 21.41%\n"
     ]
    }
   ],
   "source": [
    "mape = mean_absolute_percentage_error(actual_prices, predicted_prices)\n",
    "print(f\"MAPE (Mean Absolute Percentage Error): {mape:.2%}\")\n"
   ]
  },
  {
   "cell_type": "code",
   "execution_count": 98,
   "id": "f6abb789-e72f-4e2e-8492-403b00e29bc9",
   "metadata": {},
   "outputs": [
    {
     "data": {
      "image/png": "[encoded data removed]",
      "text/plain": [
       "<Figure size 1400x600 with 1 Axes>"
      ]
     },
     "metadata": {},
     "output_type": "display_data"
    }
   ],
   "source": [
    "plt.figure(figsize=(14,6))\n",
    "plt.plot(test_data.index[time_step:], actual_prices, label=\"Giá vàng thực tế\", color='blue')\n",
    "plt.plot(test_data.index[time_step:], predicted_prices, label=\"Giá vàng dự đoán\", color='red', linestyle='dashed')\n",
    "plt.xlabel(\"Thời gian\")\n",
    "plt.ylabel(\"Giá vàng (USD/oz)\")\n",
    "plt.legend()\n",
    "plt.title(\"So sánh giá vàng thực tế và dự đoán (2019)\")\n",
    "plt.show()\n"
   ]
  },
  {
   "cell_type": "code",
   "execution_count": 99,
   "id": "c90f2455-de90-469b-854e-49c3f39249b7",
   "metadata": {},
   "outputs": [
    {
     "name": "stdout",
     "output_type": "stream",
     "text": [
      "MSE (Mean Squared Error): 0.0303\n",
      "RMSE (Root Mean Squared Error): 0.1742\n",
      "MAE (Mean Absolute Error): 0.1501\n",
      "R² Score: -0.3560\n"
     ]
    }
   ],
   "source": [
    "from sklearn.metrics import mean_squared_error, mean_absolute_error, r2_score\n",
    "\n",
    "# Tính toán các chỉ số đánh giá mô hình\n",
    "mse = mean_squared_error(actual_prices, predicted_prices)  # Sai số bình phương trung bình\n",
    "rmse = np.sqrt(mse)  # Căn bậc hai của MSE\n",
    "mae = mean_absolute_error(actual_prices, predicted_prices)  # Sai số tuyệt đối trung bình\n",
    "r2 = r2_score(actual_prices, predicted_prices)  # Hệ số xác định R²\n",
    "\n",
    "# In kết quả\n",
    "print(f\"MSE (Mean Squared Error): {mse:.4f}\")\n",
    "print(f\"RMSE (Root Mean Squared Error): {rmse:.4f}\")\n",
    "print(f\"MAE (Mean Absolute Error): {mae:.4f}\")\n",
    "print(f\"R² Score: {r2:.4f}\")\n"
   ]
  },
  {
   "cell_type": "code",
   "execution_count": null,
   "id": "53c0daa3-cacd-49ae-990b-b19ef428dd22",
   "metadata": {},
   "outputs": [
    {
     "name": "stderr",
     "output_type": "stream",
     "text": [
      "\n",
      "KeyboardInterrupt\n",
      "\n"
     ]
    }
   ],
   "source": [
    "import pandas as pd\n",
    "\n",
    "# Đọc dữ liệu 14 năm từ file Excel\n",
    "df = pd.read_excel(\"gold_price_data.xlsx\", parse_dates=[\"Time\"])\n",
    "df = df.sort_values(\"Time\")  # sắp xếp theo thời gian\n",
    "\n",
    "# Kiểm tra và xử lý dữ liệu missing/duplicate\n",
    "assert df[\"Time\"].is_unique, \"Thời gian bị trùng lặp!\"  # đảm bảo không trùng\n",
    "assert df.isnull().sum().sum() == 0, \"Có giá trị null trong dữ liệu!\"  # đảm bảo không có null\n",
    "\n",
    "# Lấy cột giá vàng Việt Nam làm biến mục tiêu, các cột khác làm đặc trưng\n",
    "target_col = \"Gold_Price_VN\"\n",
    "feature_cols = [\"CPI_VN\", \"Gold_Price_World\", \"Oil_Price\", \"Tỷ giá USD/VN\", \"Chỉ số VN_Index\", \n",
    "                \"CPI_USA\", \"SM_M2\", \"SX_CN\", \"INTEREST_RATE\", \"GSI\", \"GSI_VN\"]\n",
    "\n",
    "# Chuẩn bị dữ liệu cho mô hình\n",
    "features = df[feature_cols].values\n",
    "target = df[target_col].values\n",
    "\n",
    "print(\"Tổng số mẫu:\", len(df))\n",
    "print(\"Thời gian từ {} đến {}\".format(df[\"Time\"].min().date(), df[\"Time\"].max().date()))\n",
    "from sklearn.model_selection import train_test_split\n",
    "\n",
    "X_train, X_test, y_train, y_test = train_test_split(features, target, shuffle=False, \n",
    "                                                    test_size=0.2)\n",
    "print(\"Số mẫu train:\", len(X_train), \" | Số mẫu test:\", len(X_test))\n",
    "import numpy as np\n",
    "\n",
    "time_step = 30  # độ dài chuỗi đầu vào cho LSTM (30 ngày)\n",
    "\n",
    "# Hàm tạo dữ liệu dạng sequence cho LSTM\n",
    "def create_sequences(X, y, time_step=30):\n",
    "    X_seq, y_seq = [], []\n",
    "    for i in range(time_step, len(X)):\n",
    "        X_seq.append(X[i-time_step:i])    # đoạn [i-time_step ... i-1]\n",
    "        y_seq.append(y[i])                # giá trị tại thời điểm i (dự báo ở bước kế)\n",
    "    return np.array(X_seq), np.array(y_seq)\n",
    "\n",
    "# Tạo dữ liệu cho LSTM (sử dụng tập train)\n",
    "X_train_seq, y_train_seq = create_sequences(X_train, y_train, time_step)\n",
    "X_test_seq, y_test_seq = create_sequences(np.vstack([X_train[-time_step:], X_test]), \n",
    "                                         np.concatenate([y_train[-time_step:], y_test]), \n",
    "                                         time_step)\n",
    "# Lưu ý: để tạo X_test_seq chính xác, nối đuôi 30 ngày cuối của train với test để không bị thiếu chuỗi\n",
    "print(\"Shape X_train_seq:\", X_train_seq.shape)  # (n_train_seq, time_step, n_features)\n",
    "import tensorflow as tf\n",
    "from tensorflow.keras import layers, models\n",
    "\n",
    "# Xây dựng model LSTM đơn giản\n",
    "lstm_model = models.Sequential([\n",
    "    layers.LSTM(50, activation='tanh', return_sequences=False, input_shape=(time_step, X_train_seq.shape[2])),\n",
    "    layers.Dense(1)  # đầu ra một giá trị (giá vàng dự báo)\n",
    "])\n",
    "lstm_model.compile(optimizer='adam', loss='mse')\n",
    "# Huấn luyện LSTM trên dữ liệu chuỗi\n",
    "history = lstm_model.fit(X_train_seq, y_train_seq, epochs=50, batch_size=32, \n",
    "                         validation_split=0.1, verbose=0)\n",
    "# Thêm đặc trưng lag-1 của giá vàng (giá vàng ngày trước đó)\n",
    "X_rf_train = np.hstack([X_train[1:], y_train[:-1, None]])  # ghép cột giá vàng ngày trước vào features ngày hiện tại\n",
    "y_rf_train = y_train[1:]\n",
    "X_rf_test = np.hstack([X_test[1:], y_test[:-1, None]])\n",
    "y_rf_test = y_test[1:]\n",
    "\n",
    "from sklearn.ensemble import RandomForestRegressor\n",
    "rf_model = RandomForestRegressor(n_estimators=100, random_state=0)\n",
    "rf_model.fit(X_rf_train, y_rf_train)\n",
    "# Dự báo bằng LSTM trên tập test (sử dụng X_test_seq đã chuẩn bị)\n",
    "y_pred_lstm = lstm_model.predict(X_test_seq).flatten()\n",
    "\n",
    "# Dự báo bằng RF trên tập test\n",
    "y_pred_rf = rf_model.predict(X_rf_test)\n",
    "\n",
    "# Kết hợp dự báo (weighted average)\n",
    "\n",
    "w_lstm, w_rf = 0.7, 0.3\n",
    "y_pred_ensemble = w_lstm * y_pred_lstm[-len(y_rf_test):] + w_rf * y_pred_rf  # đảm bảo độ dài tương ứng\n",
    "\n",
    "# Nếu độ dài y_pred_lstm_seq > y_pred_rf (do cách tạo chuỗi), cắt cho khớp với RF (bỏ vài điểm đầu)\n",
    "\n",
    "from sklearn.metrics import r2_score, mean_squared_error, mean_absolute_error\n",
    "import numpy as np\n",
    "\n",
    "r2 = r2_score(y_rf_test, y_pred_ensemble)\n",
    "rmse = np.sqrt(mean_squared_error(y_rf_test, y_pred_ensemble))\n",
    "mae = mean_absolute_error(y_rf_test, y_pred_ensemble)\n",
    "print(f\"Ensemble model – R^2: {r2:.3f}, RMSE: {rmse:.3f}, MAE: {mae:.3f}\")\n",
    "\n",
    "print(\"LSTM – R^2: %.3f, RMSE: %.3f, MAE: %.3f\" % (\n",
    "    r2_score(y_test_seq, y_pred_lstm), \n",
    "    np.sqrt(mean_squared_error(y_test_seq, y_pred_lstm)), \n",
    "    mean_absolute_error(y_test_seq, y_pred_lstm)\n",
    "))\n",
    "print(\"Random Forest – R^2: %.3f, RMSE: %.3f, MAE: %.3f\" % (\n",
    "    r2_score(y_rf_test, y_pred_rf), \n",
    "    np.sqrt(mean_squared_error(y_rf_test, y_pred_rf)), \n",
    "    mean_absolute_error(y_rf_test, y_pred_rf)\n",
    "))\n",
    "\n"
   ]
  },
  {
   "cell_type": "code",
   "execution_count": null,
   "id": "cfa2b2a1",
   "metadata": {},
   "outputs": [],
   "source": [
    "# Dùng stacking, để huấn luyện một mô hình meta, trên y_pred_lstm và y_pred_rf so với y_test để tìm sự kết hợp tối ưu\n",
    "# Sử dụng trọng số được tối ưu bằng validation"
   ]
  }
 ],
 "metadata": {
  "kernelspec": {
   "display_name": "base",
   "language": "python",
   "name": "python3"
  },
  "language_info": {
   "codemirror_mode": {
    "name": "ipython",
    "version": 3
   },
   "file_extension": ".py",
   "mimetype": "text/x-python",
   "name": "python",
   "nbconvert_exporter": "python",
   "pygments_lexer": "ipython3",
   "version": "3.12.3"
  }
 },
 "nbformat": 4,
 "nbformat_minor": 5
}
